{
 "cells": [
  {
   "cell_type": "code",
   "execution_count": 2,
   "metadata": {},
   "outputs": [
    {
     "ename": "PermissionError",
     "evalue": "[Errno 13] Permission denied: 'resultados_extracion.csv'",
     "output_type": "error",
     "traceback": [
      "\u001b[31m---------------------------------------------------------------------------\u001b[39m",
      "\u001b[31mPermissionError\u001b[39m                           Traceback (most recent call last)",
      "\u001b[36mCell\u001b[39m\u001b[36m \u001b[39m\u001b[32mIn[2]\u001b[39m\u001b[32m, line 101\u001b[39m\n\u001b[32m     82\u001b[39m archivo_csv = \u001b[33m\"\u001b[39m\u001b[33mresultados_extracion.csv\u001b[39m\u001b[33m\"\u001b[39m\n\u001b[32m     85\u001b[39m campos_csv = [\n\u001b[32m     86\u001b[39m     \u001b[33m\"\u001b[39m\u001b[33mFECHA DE EMISION\u001b[39m\u001b[33m\"\u001b[39m,\n\u001b[32m     87\u001b[39m     \u001b[33m\"\u001b[39m\u001b[33mPAGADOR\u001b[39m\u001b[33m\"\u001b[39m,\n\u001b[32m   (...)\u001b[39m\u001b[32m     97\u001b[39m     \u001b[33m\"\u001b[39m\u001b[33mArchivo PDF\u001b[39m\u001b[33m\"\u001b[39m  \n\u001b[32m     98\u001b[39m ]\n\u001b[32m--> \u001b[39m\u001b[32m101\u001b[39m \u001b[38;5;28;01mwith\u001b[39;00m \u001b[38;5;28;43mopen\u001b[39;49m\u001b[43m(\u001b[49m\u001b[43marchivo_csv\u001b[49m\u001b[43m,\u001b[49m\u001b[43m \u001b[49m\u001b[43mmode\u001b[49m\u001b[43m=\u001b[49m\u001b[33;43m'\u001b[39;49m\u001b[33;43mw\u001b[39;49m\u001b[33;43m'\u001b[39;49m\u001b[43m,\u001b[49m\u001b[43m \u001b[49m\u001b[43mnewline\u001b[49m\u001b[43m=\u001b[49m\u001b[33;43m'\u001b[39;49m\u001b[33;43m'\u001b[39;49m\u001b[43m,\u001b[49m\u001b[43m \u001b[49m\u001b[43mencoding\u001b[49m\u001b[43m=\u001b[49m\u001b[33;43m'\u001b[39;49m\u001b[33;43mutf-8\u001b[39;49m\u001b[33;43m'\u001b[39;49m\u001b[43m)\u001b[49m \u001b[38;5;28;01mas\u001b[39;00m csv_file:\n\u001b[32m    102\u001b[39m     writer = csv.DictWriter(csv_file, fieldnames=campos_csv)\n\u001b[32m    103\u001b[39m     writer.writeheader()\n",
      "\u001b[36mFile \u001b[39m\u001b[32m~\\AppData\\Local\\Packages\\PythonSoftwareFoundation.Python.3.11_qbz5n2kfra8p0\\LocalCache\\local-packages\\Python311\\site-packages\\IPython\\core\\interactiveshell.py:325\u001b[39m, in \u001b[36m_modified_open\u001b[39m\u001b[34m(file, *args, **kwargs)\u001b[39m\n\u001b[32m    318\u001b[39m \u001b[38;5;28;01mif\u001b[39;00m file \u001b[38;5;129;01min\u001b[39;00m {\u001b[32m0\u001b[39m, \u001b[32m1\u001b[39m, \u001b[32m2\u001b[39m}:\n\u001b[32m    319\u001b[39m     \u001b[38;5;28;01mraise\u001b[39;00m \u001b[38;5;167;01mValueError\u001b[39;00m(\n\u001b[32m    320\u001b[39m         \u001b[33mf\u001b[39m\u001b[33m\"\u001b[39m\u001b[33mIPython won\u001b[39m\u001b[33m'\u001b[39m\u001b[33mt let you open fd=\u001b[39m\u001b[38;5;132;01m{\u001b[39;00mfile\u001b[38;5;132;01m}\u001b[39;00m\u001b[33m by default \u001b[39m\u001b[33m\"\u001b[39m\n\u001b[32m    321\u001b[39m         \u001b[33m\"\u001b[39m\u001b[33mas it is likely to crash IPython. If you know what you are doing, \u001b[39m\u001b[33m\"\u001b[39m\n\u001b[32m    322\u001b[39m         \u001b[33m\"\u001b[39m\u001b[33myou can use builtins\u001b[39m\u001b[33m'\u001b[39m\u001b[33m open.\u001b[39m\u001b[33m\"\u001b[39m\n\u001b[32m    323\u001b[39m     )\n\u001b[32m--> \u001b[39m\u001b[32m325\u001b[39m \u001b[38;5;28;01mreturn\u001b[39;00m \u001b[43mio_open\u001b[49m\u001b[43m(\u001b[49m\u001b[43mfile\u001b[49m\u001b[43m,\u001b[49m\u001b[43m \u001b[49m\u001b[43m*\u001b[49m\u001b[43margs\u001b[49m\u001b[43m,\u001b[49m\u001b[43m \u001b[49m\u001b[43m*\u001b[49m\u001b[43m*\u001b[49m\u001b[43mkwargs\u001b[49m\u001b[43m)\u001b[49m\n",
      "\u001b[31mPermissionError\u001b[39m: [Errno 13] Permission denied: 'resultados_extracion.csv'"
     ]
    }
   ],
   "source": [
    "import fitz  # PyMuPDF\n",
    "import re\n",
    "import os\n",
    "import csv\n",
    "from datetime import datetime\n",
    "\n",
    "def extraer_campos_verticales(pdf_path):\n",
    "    # el re lo uso para limpiar el texto, creo esta funcion con el fin de extraer de manera vertical los campos\n",
    "    # y no horizontal como lo hace la otra\n",
    "    doc = fitz.open(pdf_path)\n",
    "    texto_completo = \"\"\n",
    "    \n",
    "    for pagina in doc:\n",
    "        texto_completo += pagina.get_text(\"text\") + \"\\n\"\n",
    "    \n",
    "    doc.close()\n",
    "    \n",
    "    resultados = {}\n",
    "    \n",
    "    def extraer_valor_debajo(campo, texto, lineas_abajo=1):\n",
    "        lineas = texto.split('\\n')\n",
    "        for i, linea in enumerate(lineas):\n",
    "            if campo in linea:\n",
    "                if i + lineas_abajo < len(lineas):\n",
    "                    valor = lineas[i + lineas_abajo].strip()\n",
    "                    if any(x in campo for x in ['Total', 'SALDO', 'IVA', 'Ret.', 'Percep.']):\n",
    "                        valor = re.sub(r'[^\\d.,]', '', valor).replace('.', '').replace(',', '.')\n",
    "                        try:\n",
    "                            return float(valor) if '.' in valor else int(valor)\n",
    "                        except:\n",
    "                            return valor\n",
    "                    return valor\n",
    "        return \"No encontrado\"\n",
    "    # estos son los saltos de linea que doy en cada uno de manera vertical\n",
    "    # para que no se confunda con los horizontales\n",
    "    campos_verticales = {\n",
    "        \"FECHA DE EMISION:\": 22,\n",
    "        \"PAGADOR:\": 22,\n",
    "        \"Nº DE CUIT:\": 22,\n",
    "        \"TOTAL PRESENTADO $\": 29,\n",
    "        \"TOTAL DESCUENTO\": 29,\n",
    "        \"SALDO $\": 29\n",
    "    }\n",
    "    \n",
    "    for campo, lineas_abajo in campos_verticales.items():\n",
    "        resultados[campo] = extraer_valor_debajo(campo, texto_completo, lineas_abajo)\n",
    "    \n",
    "    resultados[\"Razón Social\"] = extraer_valor_debajo(\"Razón Social\", texto_completo, 1)\n",
    "    resultados[\"Establecimiento\"] = extraer_valor_debajo(\"Establecimiento\", texto_completo, 1)\n",
    "    \n",
    "    # uso el replace de las comas para que no me tome el punto como separador de miles y la coma como separador decimal\n",
    "    def extraer_valor_monetario(patron, texto):\n",
    "        match = re.search(patron, texto)\n",
    "        if match:\n",
    "            valor = match.group(1).replace('.', '').replace(',', '.')\n",
    "            try:\n",
    "                return float(valor)\n",
    "            except:\n",
    "                return match.group(1).strip()\n",
    "        return \"No encontrado\"\n",
    "    \n",
    "    resultados[\"IVA 21.00%\"] = extraer_valor_monetario(r'IVA\\s*21,?00\\s*%?\\s*\\$\\s*([\\d.,]+)', texto_completo)\n",
    "    resultados[\"Ret.IB CAP. FED.\"] = extraer_valor_monetario(r'Ret.IB CAP.FED.\\s*[\\d.,]+\\s*%?\\s*\\$\\s*([\\d.,]+)', texto_completo)\n",
    "    resultados[\"Percep. AFIP\"] = extraer_valor_monetario(r'Percep./Retenc.AFIP\\s*[-]?\\s*DGI\\s*\\$\\s*([\\d.,]+)', texto_completo)\n",
    "    \n",
    "    mapeo_nombres = {\n",
    "        \"FECHA DE EMISION:\": \"FECHA DE EMISION\",\n",
    "        \"PAGADOR:\": \"PAGADOR\",\n",
    "        \"Nº DE CUIT:\": \"Nº DE CUIT\",\n",
    "        \"TOTAL DESCUENTO\": \"Total Descuento\",\n",
    "        \"SALDO $\": \"Saldo\",\n",
    "        \"TOTAL PRESENTADO $\": \"Total Presentado\",\n",
    "        \"IVA 21.00%\": \"IVA\",\n",
    "        \"Ret.IB CAP. FED.\": \"Retención IB\",\n",
    "        \"Percep. AFIP\": \"Percepción AFIP\"\n",
    "    }\n",
    "    \n",
    "    return {mapeo_nombres.get(k, k): v for k, v in resultados.items()}\n",
    "\n",
    "\n",
    "carpeta_pdfs = \"C:/Users/gesti/Downloads/Tarjetas/\"\n",
    "archivo_csv = \"resultados_extracion.csv\"\n",
    "\n",
    "\n",
    "campos_csv = [\n",
    "    \"FECHA DE EMISION\",\n",
    "    \"PAGADOR\",\n",
    "    \"Nº DE CUIT\",\n",
    "    \"Razón Social\",\n",
    "    \"Establecimiento\",\n",
    "    \"Total Presentado\",\n",
    "    \"Total Descuento\",\n",
    "    \"Saldo\",\n",
    "    \"IVA\",\n",
    "    \"Retención IB\",\n",
    "    \"Percepción AFIP\",\n",
    "    \"Archivo PDF\"  \n",
    "]\n",
    "\n",
    "\n",
    "with open(archivo_csv, mode='w', newline='', encoding='utf-8') as csv_file:\n",
    "    writer = csv.DictWriter(csv_file, fieldnames=campos_csv)\n",
    "    writer.writeheader()\n",
    "    \n",
    "    for archivo in os.listdir(carpeta_pdfs):\n",
    "        if archivo.lower().endswith('.pdf'):\n",
    "            try:\n",
    "                pdf_path = os.path.join(carpeta_pdfs, archivo)\n",
    "                print(f\"Procesando: {archivo}\")\n",
    "                \n",
    "                datos = extraer_campos_verticales(pdf_path)\n",
    "                \n",
    "                \n",
    "                datos[\"Archivo PDF\"] = archivo\n",
    "                \n",
    "               \n",
    "                writer.writerow(datos)\n",
    "                \n",
    "            except Exception as e:\n",
    "                print(f\"Error al procesar {archivo}: {str(e)}\")\n",
    "                \n",
    "                fila_error = {campo: f\"ERROR: {str(e)}\" for campo in campos_csv}\n",
    "                fila_error[\"Archivo PDF\"] = archivo\n",
    "                writer.writerow(fila_error)\n",
    "\n",
    "print(f\"\\nProceso completado. Resultados guardados en: {archivo_csv}\")"
   ]
  },
  {
   "cell_type": "code",
   "execution_count": 11,
   "metadata": {},
   "outputs": [
    {
     "name": "stdout",
     "output_type": "stream",
     "text": [
      "Note: you may need to restart the kernel to use updated packages.\n"
     ]
    },
    {
     "name": "stderr",
     "output_type": "stream",
     "text": [
      "WARNING: Skipping fitz as it is not installed.\n"
     ]
    }
   ],
   "source": [
    "pip uninstall fitz\n"
   ]
  },
  {
   "cell_type": "code",
   "execution_count": 8,
   "metadata": {},
   "outputs": [
    {
     "name": "stdout",
     "output_type": "stream",
     "text": [
      "Requirement already satisfied: pymupdf in c:\\users\\gesti\\appdata\\local\\packages\\pythonsoftwarefoundation.python.3.11_qbz5n2kfra8p0\\localcache\\local-packages\\python311\\site-packages (1.25.5)\n",
      "Note: you may need to restart the kernel to use updated packages.\n"
     ]
    }
   ],
   "source": [
    "pip install pymupdf\n"
   ]
  },
  {
   "cell_type": "code",
   "execution_count": null,
   "metadata": {},
   "outputs": [],
   "source": []
  }
 ],
 "metadata": {
  "kernelspec": {
   "display_name": "Python 3",
   "language": "python",
   "name": "python3"
  },
  "language_info": {
   "codemirror_mode": {
    "name": "ipython",
    "version": 3
   },
   "file_extension": ".py",
   "mimetype": "text/x-python",
   "name": "python",
   "nbconvert_exporter": "python",
   "pygments_lexer": "ipython3",
   "version": "3.11.9"
  }
 },
 "nbformat": 4,
 "nbformat_minor": 2
}
